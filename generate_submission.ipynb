{
  "nbformat": 4,
  "nbformat_minor": 0,
  "metadata": {
    "colab": {
      "provenance": []
    },
    "kernelspec": {
      "name": "python3",
      "display_name": "Python 3"
    },
    "language_info": {
      "name": "python"
    }
  },
  "cells": [
    {
      "cell_type": "code",
      "execution_count": null,
      "metadata": {
        "id": "Yt-H1pllAjve"
      },
      "outputs": [],
      "source": [
        "import joblib\n",
        "import pandas as pd\n",
        "import numpy as np\n",
        "\n",
        "test_df = pd.read_parquet('test.parquet')\n",
        "\n",
        "def create_features(data):\n",
        "    if 'label' in data:\n",
        "      df = pd.DataFrame({\n",
        "          'id': data['id'],\n",
        "          'dates': data['dates'],\n",
        "          'values': data['values'],\n",
        "          'label': data['label']\n",
        "      })\n",
        "    else:\n",
        "      df = pd.DataFrame({\n",
        "          'id': data['id'],\n",
        "          'dates': data['dates'],\n",
        "          'values': data['values'],\n",
        "      })\n",
        "\n",
        "    # Генерация признаков\n",
        "    df['mean'] = df['values'].apply(np.mean)\n",
        "    df['std'] = df['values'].apply(np.std)\n",
        "    df['min'] = df['values'].apply(np.min)\n",
        "    df['max'] = df['values'].apply(np.max)\n",
        "    df['median'] = df['values'].apply(np.median)\n",
        "\n",
        "    # Скользящие средние\n",
        "    df['rolling_mean'] = df['values'].apply(lambda x: pd.Series(x).rolling(window=7).mean().iloc[-1])\n",
        "    df['rolling_std'] = df['values'].apply(lambda x: pd.Series(x).rolling(window=7).std().iloc[-1])\n",
        "\n",
        "    return df\n",
        "\n",
        "test_features = create_features(test_df)\n",
        "test_features = test_features.drop(columns=['id', 'dates', 'values'])\n",
        "\n",
        "model = joblib.load('best_model.joblib')\n",
        "\n",
        "y_test_pred = model.predict_proba(test_features)[:, 1]\n",
        "\n",
        "# Формирование результата\n",
        "submission = pd.DataFrame({\n",
        "    'id': test_df['id'],\n",
        "    'score': y_test_pred\n",
        "})\n",
        "\n",
        "# Сохранение результата\n",
        "submission.to_csv('submission.csv', index=False)"
      ]
    }
  ]
}